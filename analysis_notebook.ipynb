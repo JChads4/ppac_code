{
 "cells": [
  {
   "cell_type": "markdown",
   "id": "a891d42d",
   "metadata": {},
   "source": [
    "# PPAC Analysis Notebook\n",
    "\n",
    "This notebook demonstrates how to load and visualize the pickle files produced by `build_correlations.py`. The notebook assumes the pickles are stored in the `analysis_output` folder."
   ]
  },
  {
   "cell_type": "code",
   "execution_count": null,
   "id": "f2918d38",
   "metadata": {},
   "outputs": [],
   "source": [
    "import pandas as pd\n",
    "from pathlib import Path\n",
    "import matplotlib.pyplot as plt\n",
    "%matplotlib inline"
   ]
  },
  {
   "cell_type": "markdown",
   "id": "65788ed7",
   "metadata": {},
   "source": [
    "## Load Data\n",
    "We attempt to load the pickled DataFrames. If a file is missing you will see a message."
   ]
  },
  {
   "cell_type": "code",
   "execution_count": null,
   "id": "38673232",
   "metadata": {},
   "outputs": [],
   "source": [
    "data_paths = {\n",
    "    \"coincident\": Path(\"analysis_output/coincident_imp.pkl\"),\n",
    "    \"decay_candidates\": Path(\"analysis_output/decay_candidates.pkl\"),\n",
    "    \"final_correlated\": Path(\"analysis_output/final_correlated.pkl\"),\n",
    "}\n",
    "data = {}\n",
    "for name, path in data_paths.items():\n",
    "    if path.exists():\n",
    "        data[name] = pd.read_pickle(path)\n",
    "        print(f\"Loaded {name}: {len(data[name])} rows\")\n",
    "    else:\n",
    "        print(f\"File {path} not found\")"
   ]
  },
  {
   "cell_type": "markdown",
   "id": "f66342a8",
   "metadata": {},
   "source": [
    "## Basic Inspection\n",
    "Display the first few rows of each DataFrame (if loaded)."
   ]
  },
  {
   "cell_type": "code",
   "execution_count": null,
   "id": "a77070ac",
   "metadata": {},
   "outputs": [],
   "source": [
    "for name, df in data.items():\n",
    "    display(df.head())"
   ]
  },
  {
   "cell_type": "markdown",
   "id": "7c67c24c",
   "metadata": {},
   "source": [
    "## Example Histogram\n",
    "Plot a histogram of recoil energies from the coincident events."
   ]
  },
  {
   "cell_type": "code",
   "execution_count": null,
   "id": "717bd2e3",
   "metadata": {},
   "outputs": [],
   "source": [
    "if \"coincident\" in data:\n",
    "    data[\"coincident\"][\"imp_xE\"].hist(bins=50, figsize=(8,4))\n",
    "    plt.xlabel(\"Recoil xE\")\n",
    "    plt.ylabel(\"Counts\")\n",
    "    plt.title(\"Histogram of recoil energies\")\n",
    "    plt.show()"
   ]
  },
  {
   "cell_type": "markdown",
   "id": "de32dbe4",
   "metadata": {},
   "source": [
    "Feel free to add additional plots, filters, or analyses as needed for your investigation."
   ]
  }
 ],
 "metadata": {},
 "nbformat": 4,
 "nbformat_minor": 5
}
